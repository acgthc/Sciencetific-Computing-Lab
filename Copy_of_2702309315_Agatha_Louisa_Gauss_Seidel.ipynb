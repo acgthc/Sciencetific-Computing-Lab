{
  "nbformat": 4,
  "nbformat_minor": 0,
  "metadata": {
    "colab": {
      "provenance": [],
      "authorship_tag": "ABX9TyPXhmJENUCf/l6EkodmTRaQ",
      "include_colab_link": true
    },
    "kernelspec": {
      "name": "python3",
      "display_name": "Python 3"
    },
    "language_info": {
      "name": "python"
    }
  },
  "cells": [
    {
      "cell_type": "markdown",
      "metadata": {
        "id": "view-in-github",
        "colab_type": "text"
      },
      "source": [
        "<a href=\"https://colab.research.google.com/github/acgthc/Scientific-Computing-Lab/blob/main/Copy_of_2702309315_Agatha_Louisa_Gauss_Seidel.ipynb\" target=\"_parent\"><img src=\"https://colab.research.google.com/assets/colab-badge.svg\" alt=\"Open In Colab\"/></a>"
      ]
    },
    {
      "cell_type": "code",
      "execution_count": null,
      "metadata": {
        "colab": {
          "base_uri": "https://localhost:8080/"
        },
        "id": "yIhBUJiSPlC8",
        "outputId": "dd4f4158-c5bc-4e81-e5dc-fc4d51f940ef"
      },
      "outputs": [
        {
          "output_type": "stream",
          "name": "stdout",
          "text": [
            "matrix is diagonally dominant\n"
          ]
        }
      ],
      "source": [
        "import numpy as np\n",
        "a =  [[8, 3, -3], [-2, -8, 5], [3, 5, 10]]\n",
        "\n",
        "diag = np.diag(np.abs(a))\n",
        "\n",
        "off_diag = np.sum(np.abs(a), axis=1) - diag\n",
        "\n",
        "if np.all(diag>off_diag):\n",
        "  print('matrix is diagonally dominant')\n",
        "else:\n",
        "  print('NOT diagonally dominant')"
      ]
    },
    {
      "cell_type": "code",
      "source": [
        "x1 = 0\n",
        "x2 = 0\n",
        "x3 = 0\n",
        "epsilon = 0.01\n",
        "converged = False\n",
        "\n",
        "x_old = np.array([x1, x2, x3])\n"
      ],
      "metadata": {
        "id": "t4lJBLXPTfe9"
      },
      "execution_count": null,
      "outputs": []
    },
    {
      "cell_type": "code",
      "source": [
        "from re import X\n",
        "print('Iteration results')\n",
        "print(' k,   x1,       x2,        x3 ')\n",
        "for k in range(1, 50):\n",
        "  x1 = (14-3*x2+3*x3)/8\n",
        "  x2 = (5+2*x1-5*x3)/(-8)\n",
        "  x3 = (-8-3*x1-5*x2)/(10)\n",
        "  x = np.array([x1, x2, x3])\n",
        "\n",
        "  dx = np.sqrt(np.dot(x-x_old, x-x_old))\n",
        "\n",
        "  print(\" %d,   %.4f,   %.4f,   %.4f  \"%(k, x1, x1, x3))\n",
        "  if dx < epsilon:\n",
        "    converged = True\n",
        "    print('Converged!')\n",
        "    break\n",
        "\n",
        "  x_old = x\n",
        "\n",
        "if not converged :\n",
        "  print('Not converge, increase the % of iterations')"
      ],
      "metadata": {
        "colab": {
          "base_uri": "https://localhost:8080/"
        },
        "id": "s6VBZ1HBUlu9",
        "outputId": "57448607-6294-4aa8-e0b2-3e3c60f1e19f"
      },
      "execution_count": null,
      "outputs": [
        {
          "output_type": "stream",
          "name": "stdout",
          "text": [
            "Iteration results\n",
            " k,   x1,       x2,        x3 \n",
            " 1,   1.7500,   1.7500,   -0.7937  \n",
            " 2,   1.8508,   1.8508,   -0.5633  \n",
            " 3,   2.1327,   2.1327,   -0.6847  \n",
            " 4,   2.0596,   2.0596,   -0.6340  \n",
            " 5,   2.1002,   2.1002,   -0.6569  \n",
            " 6,   2.0835,   2.0835,   -0.6468  \n",
            " 7,   2.0911,   2.0911,   -0.6513  \n",
            "Converged!\n"
          ]
        }
      ]
    }
  ]
}